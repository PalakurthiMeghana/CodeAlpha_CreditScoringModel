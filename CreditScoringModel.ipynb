{
  "nbformat": 4,
  "nbformat_minor": 0,
  "metadata": {
    "colab": {
      "provenance": [],
      "authorship_tag": "ABX9TyP2yP1ryE8Ras+hliU39OV5",
      "include_colab_link": true
    },
    "kernelspec": {
      "name": "python3",
      "display_name": "Python 3"
    },
    "language_info": {
      "name": "python"
    }
  },
  "cells": [
    {
      "cell_type": "markdown",
      "metadata": {
        "id": "view-in-github",
        "colab_type": "text"
      },
      "source": [
        "<a href=\"https://colab.research.google.com/github/PalakurthiMeghana/CodeAlpha_CreditScoringModel/blob/main/CreditScoringModel.ipynb\" target=\"_parent\"><img src=\"https://colab.research.google.com/assets/colab-badge.svg\" alt=\"Open In Colab\"/></a>"
      ]
    },
    {
      "cell_type": "code",
      "source": [
        "data = pd.read_csv('Credit_Card.csv')"
      ],
      "metadata": {
        "id": "JoCEC_68c7nQ"
      },
      "execution_count": null,
      "outputs": []
    },
    {
      "cell_type": "code",
      "execution_count": null,
      "metadata": {
        "id": "57__JwkGcC_Z"
      },
      "outputs": [],
      "source": [
        "import pandas as pd\n",
        "import numpy as np\n",
        "from sklearn.model_selection import train_test_split, GridSearchCV, cross_val_score\n",
        "from sklearn.preprocessing import StandardScaler\n",
        "from sklearn.linear_model import LogisticRegression\n",
        "from sklearn.tree import DecisionTreeClassifier\n",
        "from sklearn.ensemble import RandomForestClassifier\n",
        "from sklearn.metrics import classification_report, roc_auc_score, confusion_matrix\n",
        "from imblearn.over_sampling import SMOTE\n",
        "import matplotlib.pyplot as plt\n",
        "import seaborn as sns"
      ]
    },
    {
      "cell_type": "code",
      "source": [
        "target_col = 'default.payment.next.month'\n",
        "X = data.drop(columns=[target_col])\n",
        "y = data[target_col]"
      ],
      "metadata": {
        "id": "1IMZkLgbdKPg"
      },
      "execution_count": null,
      "outputs": []
    },
    {
      "cell_type": "code",
      "source": [
        "X_train, X_test, y_train, y_test = train_test_split(\n",
        "    X, y, test_size=0.2, random_state=42, stratify=y)"
      ],
      "metadata": {
        "id": "vHg_bErudOOr"
      },
      "execution_count": null,
      "outputs": []
    },
    {
      "cell_type": "code",
      "source": [
        "scaler = StandardScaler()\n",
        "X_train_scaled = scaler.fit_transform(X_train)\n",
        "X_test_scaled = scaler.transform(X_test)"
      ],
      "metadata": {
        "id": "-loERumCdTbJ"
      },
      "execution_count": null,
      "outputs": []
    },
    {
      "cell_type": "code",
      "source": [
        "sm = SMOTE(random_state=42)\n",
        "X_train_res, y_train_res = sm.fit_resample(X_train_scaled, y_train)"
      ],
      "metadata": {
        "id": "yZZ-e53JdYaz"
      },
      "execution_count": null,
      "outputs": []
    },
    {
      "cell_type": "code",
      "source": [
        "param_grids = {\n",
        "    'Logistic Regression': {\n",
        "        'C': [0.01, 0.1, 1, 10],\n",
        "        'solver': ['lbfgs'],\n",
        "        'max_iter': [500]\n",
        "    },\n",
        "    'Decision Tree': {\n",
        "        'max_depth': [3, 5, 10, 20, None],\n",
        "        'min_samples_split': [2, 5, 10]\n",
        "    },\n",
        "    'Random Forest': {\n",
        "        'n_estimators': [50, 100, 200],\n",
        "        'max_depth': [5, 10, 20, None],\n",
        "        'min_samples_split': [2, 5, 10]\n",
        "    }\n",
        "}\n",
        "\n",
        "models = {\n",
        "    'Logistic Regression': LogisticRegression(random_state=42),\n",
        "    'Decision Tree': DecisionTreeClassifier(random_state=42),\n",
        "    'Random Forest': RandomForestClassifier(random_state=42)\n",
        "}\n",
        "\n",
        "best_models = {}\n",
        "\n",
        "for name, model in models.items():\n",
        "    print(f\"--- Hyperparameter tuning for {name} ---\")\n",
        "    grid = GridSearchCV(model, param_grids[name], cv=5, scoring='roc_auc', n_jobs=-1)\n",
        "    grid.fit(X_train_res, y_train_res)\n",
        "    print(f\"Best params for {name}: {grid.best_params_}\")\n",
        "    best_models[name] = grid.best_estimator_\n",
        "\n",
        "print(\"\\n\\n--- Model Evaluation on Test Set ---\")\n",
        "\n",
        "def evaluate_model(model, X_test, y_test):\n",
        "    y_pred = model.predict(X_test)\n",
        "    if hasattr(model, \"predict_proba\"):\n",
        "        y_proba = model.predict_proba(X_test)[:, 1]\n",
        "    elif hasattr(model, \"decision_function\"):\n",
        "        y_proba = model.decision_function(X_test)\n",
        "    else:\n",
        "        y_proba = None\n",
        "\n",
        "    print(classification_report(y_test, y_pred, digits=4))\n",
        "    print(\"Confusion Matrix:\\n\", confusion_matrix(y_test, y_pred))\n",
        "    if y_proba is not None:\n",
        "        print(\"ROC-AUC Score:\", roc_auc_score(y_test, y_proba))\n",
        "    print('-' * 50)"
      ],
      "metadata": {
        "colab": {
          "base_uri": "https://localhost:8080/"
        },
        "id": "mvLusTs6deP6",
        "outputId": "b75f1407-4c9e-42f8-cf81-62d65aa92655"
      },
      "execution_count": null,
      "outputs": [
        {
          "output_type": "stream",
          "name": "stdout",
          "text": [
            "--- Hyperparameter tuning for Logistic Regression ---\n",
            "Best params for Logistic Regression: {'C': 1, 'max_iter': 500, 'solver': 'lbfgs'}\n",
            "--- Hyperparameter tuning for Decision Tree ---\n",
            "Best params for Decision Tree: {'max_depth': 10, 'min_samples_split': 10}\n",
            "--- Hyperparameter tuning for Random Forest ---\n",
            "Best params for Random Forest: {'max_depth': None, 'min_samples_split': 2, 'n_estimators': 200}\n",
            "\n",
            "\n",
            "--- Model Evaluation on Test Set ---\n"
          ]
        }
      ]
    },
    {
      "cell_type": "code",
      "source": [
        "for name, model in best_models.items():\n",
        "    print(f\"Evaluating {name}...\")\n",
        "    evaluate_model(model, X_test_scaled, y_test)"
      ],
      "metadata": {
        "colab": {
          "base_uri": "https://localhost:8080/"
        },
        "id": "ze5jjzhQviWt",
        "outputId": "ff47c34a-9747-444f-f4ed-d26a4ef2f3db"
      },
      "execution_count": null,
      "outputs": [
        {
          "output_type": "stream",
          "name": "stdout",
          "text": [
            "Evaluating Logistic Regression...\n",
            "              precision    recall  f1-score   support\n",
            "\n",
            "           0     0.8667    0.6831    0.7640      4673\n",
            "           1     0.3608    0.6300    0.4588      1327\n",
            "\n",
            "    accuracy                         0.6713      6000\n",
            "   macro avg     0.6137    0.6565    0.6114      6000\n",
            "weighted avg     0.7548    0.6713    0.6965      6000\n",
            "\n",
            "Confusion Matrix:\n",
            " [[3192 1481]\n",
            " [ 491  836]]\n",
            "ROC-AUC Score: 0.7103753529027486\n",
            "--------------------------------------------------\n",
            "Evaluating Decision Tree...\n",
            "              precision    recall  f1-score   support\n",
            "\n",
            "           0     0.8601    0.8115    0.8351      4673\n",
            "           1     0.4463    0.5350    0.4866      1327\n",
            "\n",
            "    accuracy                         0.7503      6000\n",
            "   macro avg     0.6532    0.6733    0.6608      6000\n",
            "weighted avg     0.7685    0.7503    0.7580      6000\n",
            "\n",
            "Confusion Matrix:\n",
            " [[3792  881]\n",
            " [ 617  710]]\n",
            "ROC-AUC Score: 0.7160758198059659\n",
            "--------------------------------------------------\n",
            "Evaluating Random Forest...\n",
            "              precision    recall  f1-score   support\n",
            "\n",
            "           0     0.8522    0.8934    0.8723      4673\n",
            "           1     0.5477    0.4544    0.4967      1327\n",
            "\n",
            "    accuracy                         0.7963      6000\n",
            "   macro avg     0.6999    0.6739    0.6845      6000\n",
            "weighted avg     0.7849    0.7963    0.7893      6000\n",
            "\n",
            "Confusion Matrix:\n",
            " [[4175  498]\n",
            " [ 724  603]]\n",
            "ROC-AUC Score: 0.7536032082199994\n",
            "--------------------------------------------------\n"
          ]
        }
      ]
    },
    {
      "cell_type": "code",
      "source": [
        "rf_model = best_models['Random Forest']\n",
        "feature_importances = pd.Series(rf_model.feature_importances_, index=X.columns).sort_values(ascending=False)\n",
        "\n",
        "print(\"\\n--- Top 10 Important Features ---\")\n",
        "print(feature_importances.head(10))\n",
        "\n",
        "# Feature importance visualization\n",
        "plt.figure(figsize=(10,6))\n",
        "sns.barplot(x=feature_importances.head(10), y=feature_importances.head(10).index)\n",
        "plt.title('Top 10 Feature Importances from Random Forest')\n",
        "plt.show()"
      ],
      "metadata": {
        "colab": {
          "base_uri": "https://localhost:8080/",
          "height": 790
        },
        "id": "qvwpjlLGvnNS",
        "outputId": "e6fc5393-d791-4f2b-a656-6032c889d714"
      },
      "execution_count": null,
      "outputs": [
        {
          "output_type": "stream",
          "name": "stdout",
          "text": [
            "\n",
            "--- Top 10 Important Features ---\n",
            "PAY_0        0.101654\n",
            "LIMIT_BAL    0.072381\n",
            "ID           0.056659\n",
            "AGE          0.053570\n",
            "PAY_2        0.052017\n",
            "PAY_AMT1     0.047382\n",
            "BILL_AMT1    0.046731\n",
            "PAY_AMT2     0.045914\n",
            "PAY_AMT6     0.045589\n",
            "PAY_AMT3     0.042577\n",
            "dtype: float64\n"
          ]
        },
        {
          "output_type": "display_data",
          "data": {
            "text/plain": [
              "<Figure size 1000x600 with 1 Axes>"
            ],
            "image/png": "[encoded data removed]"
          },
          "metadata": {}
        }
      ]
    },
    {
      "cell_type": "code",
      "source": [
        "print(\"\\n--- Cross-validation Scores (ROC-AUC) ---\")\n",
        "for name, model in best_models.items():\n",
        "    scores = cross_val_score(model, X_train_res, y_train_res, cv=5, scoring='roc_auc', n_jobs=-1)\n",
        "    print(f\"{name}: Mean ROC-AUC = {scores.mean():.4f}, Std = {scores.std():.4f}\")"
      ],
      "metadata": {
        "colab": {
          "base_uri": "https://localhost:8080/"
        },
        "id": "79mQJKr1vrX6",
        "outputId": "2379f5bc-d749-426a-bac2-c3c052c979a7"
      },
      "execution_count": null,
      "outputs": [
        {
          "output_type": "stream",
          "name": "stdout",
          "text": [
            "\n",
            "--- Cross-validation Scores (ROC-AUC) ---\n",
            "Logistic Regression: Mean ROC-AUC = 0.7356, Std = 0.0042\n",
            "Decision Tree: Mean ROC-AUC = 0.8226, Std = 0.0536\n",
            "Random Forest: Mean ROC-AUC = 0.9370, Std = 0.0349\n"
          ]
        }
      ]
    }
  ]
}